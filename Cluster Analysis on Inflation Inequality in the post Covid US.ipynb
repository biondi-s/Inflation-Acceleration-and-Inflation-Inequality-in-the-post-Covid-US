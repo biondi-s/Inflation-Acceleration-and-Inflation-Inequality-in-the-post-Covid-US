{
 "cells": [
  {
   "cell_type": "code",
   "execution_count": 3,
   "metadata": {},
   "outputs": [],
   "source": [
    "import pandas as pd\n",
    "import numpy as np\n",
    "import matplotlib.pyplot as plt\n",
    "from sklearn.cluster import KMeans\n",
    "from sklearn.preprocessing import MinMaxScaler\n",
    "scaler = MinMaxScaler()"
   ]
  },
  {
   "cell_type": "markdown",
   "metadata": {},
   "source": [
    "# Load and Normalize Laspeyres Fixed Weight Index "
   ]
  },
  {
   "cell_type": "markdown",
   "metadata": {},
   "source": [
    "For each Class $t$ $=$ $2022$-$03$ and $t_0$ $=$ $2021$-$02$"
   ]
  },
  {
   "cell_type": "code",
   "execution_count": 4,
   "metadata": {},
   "outputs": [
    {
     "data": {
      "text/html": [
       "<div>\n",
       "<style scoped>\n",
       "    .dataframe tbody tr th:only-of-type {\n",
       "        vertical-align: middle;\n",
       "    }\n",
       "\n",
       "    .dataframe tbody tr th {\n",
       "        vertical-align: top;\n",
       "    }\n",
       "\n",
       "    .dataframe thead th {\n",
       "        text-align: right;\n",
       "    }\n",
       "</style>\n",
       "<table border=\"1\" class=\"dataframe\">\n",
       "  <thead>\n",
       "    <tr style=\"text-align: right;\">\n",
       "      <th></th>\n",
       "      <th>race</th>\n",
       "      <th>race_value</th>\n",
       "    </tr>\n",
       "  </thead>\n",
       "  <tbody>\n",
       "    <tr>\n",
       "      <td>0</td>\n",
       "      <td>white</td>\n",
       "      <td>0.79043</td>\n",
       "    </tr>\n",
       "    <tr>\n",
       "      <td>1</td>\n",
       "      <td>asian</td>\n",
       "      <td>0.00000</td>\n",
       "    </tr>\n",
       "    <tr>\n",
       "      <td>2</td>\n",
       "      <td>black</td>\n",
       "      <td>1.00000</td>\n",
       "    </tr>\n",
       "  </tbody>\n",
       "</table>\n",
       "</div>"
      ],
      "text/plain": [
       "    race  race_value\n",
       "0  white     0.79043\n",
       "1  asian     0.00000\n",
       "2  black     1.00000"
      ]
     },
     "execution_count": 4,
     "metadata": {},
     "output_type": "execute_result"
    }
   ],
   "source": [
    "d = {'race':['white','asian','black'],\n",
    "     'race_value':[0.0973671720366758,0.0898972409466823,0.0993477084650276]}\n",
    "df_race = pd.DataFrame(d)\n",
    "df_race[\"race_value\"] = scaler.fit_transform(np.array(df_race['race_value']).reshape(-1, 1)) \n",
    "df_race"
   ]
  },
  {
   "cell_type": "code",
   "execution_count": 5,
   "metadata": {},
   "outputs": [
    {
     "data": {
      "text/html": [
       "<div>\n",
       "<style scoped>\n",
       "    .dataframe tbody tr th:only-of-type {\n",
       "        vertical-align: middle;\n",
       "    }\n",
       "\n",
       "    .dataframe tbody tr th {\n",
       "        vertical-align: top;\n",
       "    }\n",
       "\n",
       "    .dataframe thead th {\n",
       "        text-align: right;\n",
       "    }\n",
       "</style>\n",
       "<table border=\"1\" class=\"dataframe\">\n",
       "  <thead>\n",
       "    <tr style=\"text-align: right;\">\n",
       "      <th></th>\n",
       "      <th>region</th>\n",
       "      <th>region_value</th>\n",
       "    </tr>\n",
       "  </thead>\n",
       "  <tbody>\n",
       "    <tr>\n",
       "      <td>0</td>\n",
       "      <td>northeast</td>\n",
       "      <td>0.000000</td>\n",
       "    </tr>\n",
       "    <tr>\n",
       "      <td>1</td>\n",
       "      <td>midwest</td>\n",
       "      <td>0.942254</td>\n",
       "    </tr>\n",
       "    <tr>\n",
       "      <td>2</td>\n",
       "      <td>south</td>\n",
       "      <td>1.000000</td>\n",
       "    </tr>\n",
       "    <tr>\n",
       "      <td>3</td>\n",
       "      <td>west</td>\n",
       "      <td>0.581156</td>\n",
       "    </tr>\n",
       "  </tbody>\n",
       "</table>\n",
       "</div>"
      ],
      "text/plain": [
       "      region  region_value\n",
       "0  northeast      0.000000\n",
       "1    midwest      0.942254\n",
       "2      south      1.000000\n",
       "3       west      0.581156"
      ]
     },
     "execution_count": 5,
     "metadata": {},
     "output_type": "execute_result"
    }
   ],
   "source": [
    "d = {'region':['northeast','midwest', 'south', 'west'], \n",
    "     'region_value':[1.09160600192193,1.0992645606691,1.09973391609147,1.09632958546209]}\n",
    "df_region = pd.DataFrame(d)\n",
    "df_region[\"region_value\"] = scaler.fit_transform(np.array(df_region['region_value']).reshape(-1, 1))\n",
    "df_region"
   ]
  },
  {
   "cell_type": "code",
   "execution_count": 6,
   "metadata": {},
   "outputs": [
    {
     "data": {
      "text/html": [
       "<div>\n",
       "<style scoped>\n",
       "    .dataframe tbody tr th:only-of-type {\n",
       "        vertical-align: middle;\n",
       "    }\n",
       "\n",
       "    .dataframe tbody tr th {\n",
       "        vertical-align: top;\n",
       "    }\n",
       "\n",
       "    .dataframe thead th {\n",
       "        text-align: right;\n",
       "    }\n",
       "</style>\n",
       "<table border=\"1\" class=\"dataframe\">\n",
       "  <thead>\n",
       "    <tr style=\"text-align: right;\">\n",
       "      <th></th>\n",
       "      <th>age</th>\n",
       "      <th>age_value</th>\n",
       "    </tr>\n",
       "  </thead>\n",
       "  <tbody>\n",
       "    <tr>\n",
       "      <td>0</td>\n",
       "      <td>u25</td>\n",
       "      <td>1.000000</td>\n",
       "    </tr>\n",
       "    <tr>\n",
       "      <td>1</td>\n",
       "      <td>25_34</td>\n",
       "      <td>0.927880</td>\n",
       "    </tr>\n",
       "    <tr>\n",
       "      <td>2</td>\n",
       "      <td>35_44</td>\n",
       "      <td>0.862701</td>\n",
       "    </tr>\n",
       "    <tr>\n",
       "      <td>3</td>\n",
       "      <td>45_54</td>\n",
       "      <td>0.730981</td>\n",
       "    </tr>\n",
       "    <tr>\n",
       "      <td>4</td>\n",
       "      <td>55_64</td>\n",
       "      <td>0.673882</td>\n",
       "    </tr>\n",
       "    <tr>\n",
       "      <td>5</td>\n",
       "      <td>65_74</td>\n",
       "      <td>0.519950</td>\n",
       "    </tr>\n",
       "    <tr>\n",
       "      <td>6</td>\n",
       "      <td>o75</td>\n",
       "      <td>0.000000</td>\n",
       "    </tr>\n",
       "  </tbody>\n",
       "</table>\n",
       "</div>"
      ],
      "text/plain": [
       "     age  age_value\n",
       "0    u25   1.000000\n",
       "1  25_34   0.927880\n",
       "2  35_44   0.862701\n",
       "3  45_54   0.730981\n",
       "4  55_64   0.673882\n",
       "5  65_74   0.519950\n",
       "6    o75   0.000000"
      ]
     },
     "execution_count": 6,
     "metadata": {},
     "output_type": "execute_result"
    }
   ],
   "source": [
    "d = {'age':['u25','25_34', '35_44', '45_54','55_64','65_74','o75'], \n",
    "     'age_value':[1.103176431,1.101738824,1.100439555,1.097813897\n",
    "                  ,1.096675707,1.093607266,1.083242763]}\n",
    "df_age = pd.DataFrame(d)\n",
    "df_age[\"age_value\"] = scaler.fit_transform(np.array(df_age['age_value']).reshape(-1, 1))\n",
    "df_age"
   ]
  },
  {
   "cell_type": "code",
   "execution_count": 7,
   "metadata": {},
   "outputs": [
    {
     "data": {
      "text/html": [
       "<div>\n",
       "<style scoped>\n",
       "    .dataframe tbody tr th:only-of-type {\n",
       "        vertical-align: middle;\n",
       "    }\n",
       "\n",
       "    .dataframe tbody tr th {\n",
       "        vertical-align: top;\n",
       "    }\n",
       "\n",
       "    .dataframe thead th {\n",
       "        text-align: right;\n",
       "    }\n",
       "</style>\n",
       "<table border=\"1\" class=\"dataframe\">\n",
       "  <thead>\n",
       "    <tr style=\"text-align: right;\">\n",
       "      <th></th>\n",
       "      <th>occupation</th>\n",
       "      <th>occupation_value</th>\n",
       "    </tr>\n",
       "  </thead>\n",
       "  <tbody>\n",
       "    <tr>\n",
       "      <td>0</td>\n",
       "      <td>managers</td>\n",
       "      <td>0.320244</td>\n",
       "    </tr>\n",
       "    <tr>\n",
       "      <td>1</td>\n",
       "      <td>tech_sales</td>\n",
       "      <td>0.574671</td>\n",
       "    </tr>\n",
       "    <tr>\n",
       "      <td>2</td>\n",
       "      <td>service</td>\n",
       "      <td>0.719257</td>\n",
       "    </tr>\n",
       "    <tr>\n",
       "      <td>3</td>\n",
       "      <td>construction</td>\n",
       "      <td>1.000000</td>\n",
       "    </tr>\n",
       "    <tr>\n",
       "      <td>4</td>\n",
       "      <td>operators</td>\n",
       "      <td>0.982491</td>\n",
       "    </tr>\n",
       "    <tr>\n",
       "      <td>5</td>\n",
       "      <td>retired</td>\n",
       "      <td>0.000000</td>\n",
       "    </tr>\n",
       "  </tbody>\n",
       "</table>\n",
       "</div>"
      ],
      "text/plain": [
       "     occupation  occupation_value\n",
       "0      managers          0.320244\n",
       "1    tech_sales          0.574671\n",
       "2       service          0.719257\n",
       "3  construction          1.000000\n",
       "4     operators          0.982491\n",
       "5       retired          0.000000"
      ]
     },
     "execution_count": 7,
     "metadata": {},
     "output_type": "execute_result"
    }
   ],
   "source": [
    "d = {'occupation':['managers','tech_sales', 'service', 'construction','operators','retired'], \n",
    "     'occupation_value':[1.096140778,1.100362962,1.102762348,1.107421248,1.107130684,1.090826376]}\n",
    "df_occupation = pd.DataFrame(d)\n",
    "df_occupation[\"occupation_value\"] = scaler.fit_transform(np.array(df_occupation['occupation_value']).reshape(-1, 1))\n",
    "df_occupation"
   ]
  },
  {
   "cell_type": "raw",
   "metadata": {},
   "source": [
    "    d = {'income':['u15k','15_29k','30_39k', '40_49k', '50_69k','70_99k','100_149k','150_199k','o200k'], \n",
    "     'income_value':[1.095998112,1.0940621,1.09724313,1.098674027,1.100609936,1.100095248,1.101239681,1.094145895,1.091619421]}\n",
    "df_income = pd.DataFrame(d)\n",
    "df_income[\"income_value\"] = scaler.fit_transform(np.array(df_income['income_value']).reshape(-1, 1))\n",
    "df_income"
   ]
  },
  {
   "cell_type": "markdown",
   "metadata": {},
   "source": [
    "# Combine Groups"
   ]
  },
  {
   "cell_type": "code",
   "execution_count": 8,
   "metadata": {},
   "outputs": [],
   "source": [
    "from itertools import product\n",
    "df_comb = pd.DataFrame(list(product(list(df_race.race),\n",
    "                                    list(df_region.region),\n",
    "                                    list(df_age.age),\n",
    "                                    list(df_occupation.occupation)                                \n",
    "                            )\n",
    "                        ), columns = [\"race\",\"region\",\"age\",\"occupation\"])"
   ]
  },
  {
   "cell_type": "code",
   "execution_count": 9,
   "metadata": {},
   "outputs": [
    {
     "data": {
      "text/html": [
       "<div>\n",
       "<style scoped>\n",
       "    .dataframe tbody tr th:only-of-type {\n",
       "        vertical-align: middle;\n",
       "    }\n",
       "\n",
       "    .dataframe tbody tr th {\n",
       "        vertical-align: top;\n",
       "    }\n",
       "\n",
       "    .dataframe thead th {\n",
       "        text-align: right;\n",
       "    }\n",
       "</style>\n",
       "<table border=\"1\" class=\"dataframe\">\n",
       "  <thead>\n",
       "    <tr style=\"text-align: right;\">\n",
       "      <th></th>\n",
       "      <th>race</th>\n",
       "      <th>region</th>\n",
       "      <th>age</th>\n",
       "      <th>occupation</th>\n",
       "    </tr>\n",
       "  </thead>\n",
       "  <tbody>\n",
       "    <tr>\n",
       "      <td>0</td>\n",
       "      <td>white</td>\n",
       "      <td>northeast</td>\n",
       "      <td>u25</td>\n",
       "      <td>managers</td>\n",
       "    </tr>\n",
       "    <tr>\n",
       "      <td>1</td>\n",
       "      <td>white</td>\n",
       "      <td>northeast</td>\n",
       "      <td>u25</td>\n",
       "      <td>tech_sales</td>\n",
       "    </tr>\n",
       "    <tr>\n",
       "      <td>2</td>\n",
       "      <td>white</td>\n",
       "      <td>northeast</td>\n",
       "      <td>u25</td>\n",
       "      <td>service</td>\n",
       "    </tr>\n",
       "    <tr>\n",
       "      <td>3</td>\n",
       "      <td>white</td>\n",
       "      <td>northeast</td>\n",
       "      <td>u25</td>\n",
       "      <td>construction</td>\n",
       "    </tr>\n",
       "    <tr>\n",
       "      <td>4</td>\n",
       "      <td>white</td>\n",
       "      <td>northeast</td>\n",
       "      <td>u25</td>\n",
       "      <td>operators</td>\n",
       "    </tr>\n",
       "  </tbody>\n",
       "</table>\n",
       "</div>"
      ],
      "text/plain": [
       "    race     region  age    occupation\n",
       "0  white  northeast  u25      managers\n",
       "1  white  northeast  u25    tech_sales\n",
       "2  white  northeast  u25       service\n",
       "3  white  northeast  u25  construction\n",
       "4  white  northeast  u25     operators"
      ]
     },
     "execution_count": 9,
     "metadata": {},
     "output_type": "execute_result"
    }
   ],
   "source": [
    "df_comb.head()"
   ]
  },
  {
   "cell_type": "code",
   "execution_count": 10,
   "metadata": {},
   "outputs": [],
   "source": [
    "assert(len(df_comb) == len(df_race)*len(df_region)*\n",
    "                       len(df_age)*len(df_occupation))#*len(df_income))"
   ]
  },
  {
   "cell_type": "code",
   "execution_count": 11,
   "metadata": {},
   "outputs": [],
   "source": [
    "df_comb= df_comb.merge(df_race, how = \"left\" , on=\"race\").\\\n",
    "                 merge(df_region, how = \"left\" , on=\"region\").\\\n",
    "                 merge(df_age, how = \"left\" , on=\"age\").\\\n",
    "                 merge(df_occupation, how = \"left\" , on=\"occupation\")#.\\\n",
    "#                 merge(df_income, how = \"left\" , on=\"income\")"
   ]
  },
  {
   "cell_type": "code",
   "execution_count": 12,
   "metadata": {},
   "outputs": [
    {
     "data": {
      "text/html": [
       "<div>\n",
       "<style scoped>\n",
       "    .dataframe tbody tr th:only-of-type {\n",
       "        vertical-align: middle;\n",
       "    }\n",
       "\n",
       "    .dataframe tbody tr th {\n",
       "        vertical-align: top;\n",
       "    }\n",
       "\n",
       "    .dataframe thead th {\n",
       "        text-align: right;\n",
       "    }\n",
       "</style>\n",
       "<table border=\"1\" class=\"dataframe\">\n",
       "  <thead>\n",
       "    <tr style=\"text-align: right;\">\n",
       "      <th></th>\n",
       "      <th>race</th>\n",
       "      <th>region</th>\n",
       "      <th>age</th>\n",
       "      <th>occupation</th>\n",
       "      <th>race_value</th>\n",
       "      <th>region_value</th>\n",
       "      <th>age_value</th>\n",
       "      <th>occupation_value</th>\n",
       "    </tr>\n",
       "  </thead>\n",
       "  <tbody>\n",
       "    <tr>\n",
       "      <td>0</td>\n",
       "      <td>white</td>\n",
       "      <td>northeast</td>\n",
       "      <td>u25</td>\n",
       "      <td>managers</td>\n",
       "      <td>0.79043</td>\n",
       "      <td>0.0</td>\n",
       "      <td>1.0</td>\n",
       "      <td>0.320244</td>\n",
       "    </tr>\n",
       "    <tr>\n",
       "      <td>1</td>\n",
       "      <td>white</td>\n",
       "      <td>northeast</td>\n",
       "      <td>u25</td>\n",
       "      <td>tech_sales</td>\n",
       "      <td>0.79043</td>\n",
       "      <td>0.0</td>\n",
       "      <td>1.0</td>\n",
       "      <td>0.574671</td>\n",
       "    </tr>\n",
       "    <tr>\n",
       "      <td>2</td>\n",
       "      <td>white</td>\n",
       "      <td>northeast</td>\n",
       "      <td>u25</td>\n",
       "      <td>service</td>\n",
       "      <td>0.79043</td>\n",
       "      <td>0.0</td>\n",
       "      <td>1.0</td>\n",
       "      <td>0.719257</td>\n",
       "    </tr>\n",
       "    <tr>\n",
       "      <td>3</td>\n",
       "      <td>white</td>\n",
       "      <td>northeast</td>\n",
       "      <td>u25</td>\n",
       "      <td>construction</td>\n",
       "      <td>0.79043</td>\n",
       "      <td>0.0</td>\n",
       "      <td>1.0</td>\n",
       "      <td>1.000000</td>\n",
       "    </tr>\n",
       "    <tr>\n",
       "      <td>4</td>\n",
       "      <td>white</td>\n",
       "      <td>northeast</td>\n",
       "      <td>u25</td>\n",
       "      <td>operators</td>\n",
       "      <td>0.79043</td>\n",
       "      <td>0.0</td>\n",
       "      <td>1.0</td>\n",
       "      <td>0.982491</td>\n",
       "    </tr>\n",
       "  </tbody>\n",
       "</table>\n",
       "</div>"
      ],
      "text/plain": [
       "    race     region  age    occupation  race_value  region_value  age_value  \\\n",
       "0  white  northeast  u25      managers     0.79043           0.0        1.0   \n",
       "1  white  northeast  u25    tech_sales     0.79043           0.0        1.0   \n",
       "2  white  northeast  u25       service     0.79043           0.0        1.0   \n",
       "3  white  northeast  u25  construction     0.79043           0.0        1.0   \n",
       "4  white  northeast  u25     operators     0.79043           0.0        1.0   \n",
       "\n",
       "   occupation_value  \n",
       "0          0.320244  \n",
       "1          0.574671  \n",
       "2          0.719257  \n",
       "3          1.000000  \n",
       "4          0.982491  "
      ]
     },
     "execution_count": 12,
     "metadata": {},
     "output_type": "execute_result"
    }
   ],
   "source": [
    "df_comb.head()"
   ]
  },
  {
   "cell_type": "markdown",
   "metadata": {},
   "source": [
    "# Calculate Combined Index"
   ]
  },
  {
   "cell_type": "code",
   "execution_count": 13,
   "metadata": {},
   "outputs": [],
   "source": [
    "df_comb['mean_value'] = df_comb.filter(like='_value').mean(axis=1)"
   ]
  },
  {
   "cell_type": "code",
   "execution_count": 14,
   "metadata": {},
   "outputs": [],
   "source": [
    "df_comb = df_comb.sort_values(\"mean_value\", ascending=False)"
   ]
  },
  {
   "cell_type": "code",
   "execution_count": 15,
   "metadata": {},
   "outputs": [
    {
     "data": {
      "text/html": [
       "<div>\n",
       "<style scoped>\n",
       "    .dataframe tbody tr th:only-of-type {\n",
       "        vertical-align: middle;\n",
       "    }\n",
       "\n",
       "    .dataframe tbody tr th {\n",
       "        vertical-align: top;\n",
       "    }\n",
       "\n",
       "    .dataframe thead th {\n",
       "        text-align: right;\n",
       "    }\n",
       "</style>\n",
       "<table border=\"1\" class=\"dataframe\">\n",
       "  <thead>\n",
       "    <tr style=\"text-align: right;\">\n",
       "      <th></th>\n",
       "      <th>race</th>\n",
       "      <th>region</th>\n",
       "      <th>age</th>\n",
       "      <th>occupation</th>\n",
       "      <th>race_value</th>\n",
       "      <th>region_value</th>\n",
       "      <th>age_value</th>\n",
       "      <th>occupation_value</th>\n",
       "      <th>mean_value</th>\n",
       "    </tr>\n",
       "  </thead>\n",
       "  <tbody>\n",
       "    <tr>\n",
       "      <td>423</td>\n",
       "      <td>black</td>\n",
       "      <td>south</td>\n",
       "      <td>u25</td>\n",
       "      <td>construction</td>\n",
       "      <td>1.0</td>\n",
       "      <td>1.000000</td>\n",
       "      <td>1.00000</td>\n",
       "      <td>1.000000</td>\n",
       "      <td>1.000000</td>\n",
       "    </tr>\n",
       "    <tr>\n",
       "      <td>424</td>\n",
       "      <td>black</td>\n",
       "      <td>south</td>\n",
       "      <td>u25</td>\n",
       "      <td>operators</td>\n",
       "      <td>1.0</td>\n",
       "      <td>1.000000</td>\n",
       "      <td>1.00000</td>\n",
       "      <td>0.982491</td>\n",
       "      <td>0.995623</td>\n",
       "    </tr>\n",
       "    <tr>\n",
       "      <td>381</td>\n",
       "      <td>black</td>\n",
       "      <td>midwest</td>\n",
       "      <td>u25</td>\n",
       "      <td>construction</td>\n",
       "      <td>1.0</td>\n",
       "      <td>0.942254</td>\n",
       "      <td>1.00000</td>\n",
       "      <td>1.000000</td>\n",
       "      <td>0.985563</td>\n",
       "    </tr>\n",
       "    <tr>\n",
       "      <td>429</td>\n",
       "      <td>black</td>\n",
       "      <td>south</td>\n",
       "      <td>25_34</td>\n",
       "      <td>construction</td>\n",
       "      <td>1.0</td>\n",
       "      <td>1.000000</td>\n",
       "      <td>0.92788</td>\n",
       "      <td>1.000000</td>\n",
       "      <td>0.981970</td>\n",
       "    </tr>\n",
       "    <tr>\n",
       "      <td>382</td>\n",
       "      <td>black</td>\n",
       "      <td>midwest</td>\n",
       "      <td>u25</td>\n",
       "      <td>operators</td>\n",
       "      <td>1.0</td>\n",
       "      <td>0.942254</td>\n",
       "      <td>1.00000</td>\n",
       "      <td>0.982491</td>\n",
       "      <td>0.981186</td>\n",
       "    </tr>\n",
       "  </tbody>\n",
       "</table>\n",
       "</div>"
      ],
      "text/plain": [
       "      race   region    age    occupation  race_value  region_value  age_value  \\\n",
       "423  black    south    u25  construction         1.0      1.000000    1.00000   \n",
       "424  black    south    u25     operators         1.0      1.000000    1.00000   \n",
       "381  black  midwest    u25  construction         1.0      0.942254    1.00000   \n",
       "429  black    south  25_34  construction         1.0      1.000000    0.92788   \n",
       "382  black  midwest    u25     operators         1.0      0.942254    1.00000   \n",
       "\n",
       "     occupation_value  mean_value  \n",
       "423          1.000000    1.000000  \n",
       "424          0.982491    0.995623  \n",
       "381          1.000000    0.985563  \n",
       "429          1.000000    0.981970  \n",
       "382          0.982491    0.981186  "
      ]
     },
     "execution_count": 15,
     "metadata": {},
     "output_type": "execute_result"
    }
   ],
   "source": [
    "df_comb.head()"
   ]
  },
  {
   "cell_type": "code",
   "execution_count": 16,
   "metadata": {},
   "outputs": [],
   "source": [
    "df_comb.to_excel(\"dataset_combination_2.xlsx\", index=False)"
   ]
  },
  {
   "cell_type": "markdown",
   "metadata": {},
   "source": [
    "# Plot top 20"
   ]
  },
  {
   "cell_type": "code",
   "execution_count": 44,
   "metadata": {},
   "outputs": [],
   "source": [
    "df = df_comb.head(20)"
   ]
  },
  {
   "cell_type": "code",
   "execution_count": 45,
   "metadata": {},
   "outputs": [
    {
     "data": {
      "image/png": "[encoded data removed]",
      "text/plain": [
       "<Figure size 720x1440 with 1 Axes>"
      ]
     },
     "metadata": {
      "needs_background": "light"
     },
     "output_type": "display_data"
    }
   ],
   "source": [
    "fig = plt.figure(figsize = (10, 20))\n",
    "plt.barh(df[\"race\"] + \" & \" + df[\"region\"] + \" & \" + df[\"age\"] + \" & \" + df[\"occupation\"]\n",
    "        , df[\"mean_value\"])\n",
    "plt.show()"
   ]
  },
  {
   "cell_type": "markdown",
   "metadata": {},
   "source": [
    "# Plot bottom 20"
   ]
  },
  {
   "cell_type": "code",
   "execution_count": 42,
   "metadata": {},
   "outputs": [],
   "source": [
    "df = df_comb.tail(20)"
   ]
  },
  {
   "cell_type": "code",
   "execution_count": 43,
   "metadata": {},
   "outputs": [
    {
     "data": {
      "image/png": "[encoded data removed]",
      "text/plain": [
       "<Figure size 720x1440 with 1 Axes>"
      ]
     },
     "metadata": {
      "needs_background": "light"
     },
     "output_type": "display_data"
    }
   ],
   "source": [
    "fig = plt.figure(figsize = (10, 20))\n",
    "plt.barh(df[\"race\"] + \" & \" + df[\"region\"] + \" & \" + df[\"age\"] + \" & \" + df[\"occupation\"]\n",
    "        , df[\"mean_value\"])\n",
    "plt.show()"
   ]
  },
  {
   "cell_type": "markdown",
   "metadata": {},
   "source": [
    "# Kmeans 3 classi"
   ]
  },
  {
   "cell_type": "code",
   "execution_count": 21,
   "metadata": {},
   "outputs": [],
   "source": [
    "kmeans = KMeans(n_clusters=3, random_state=0).fit(np.array(df_comb[\"mean_value\"]).reshape(-1, 1))"
   ]
  },
  {
   "cell_type": "code",
   "execution_count": 22,
   "metadata": {},
   "outputs": [
    {
     "data": {
      "text/plain": [
       "array([[0.61216197],\n",
       "       [0.83028786],\n",
       "       [0.36895567]])"
      ]
     },
     "execution_count": 22,
     "metadata": {},
     "output_type": "execute_result"
    }
   ],
   "source": [
    "kmeans.cluster_centers_"
   ]
  },
  {
   "cell_type": "code",
   "execution_count": 23,
   "metadata": {},
   "outputs": [],
   "source": [
    "df_comb[\"cluster\"] = kmeans.labels_"
   ]
  },
  {
   "cell_type": "code",
   "execution_count": 24,
   "metadata": {},
   "outputs": [
    {
     "data": {
      "text/html": [
       "<div>\n",
       "<style scoped>\n",
       "    .dataframe tbody tr th:only-of-type {\n",
       "        vertical-align: middle;\n",
       "    }\n",
       "\n",
       "    .dataframe tbody tr th {\n",
       "        vertical-align: top;\n",
       "    }\n",
       "\n",
       "    .dataframe thead th {\n",
       "        text-align: right;\n",
       "    }\n",
       "</style>\n",
       "<table border=\"1\" class=\"dataframe\">\n",
       "  <thead>\n",
       "    <tr style=\"text-align: right;\">\n",
       "      <th></th>\n",
       "      <th>race</th>\n",
       "      <th>region</th>\n",
       "      <th>age</th>\n",
       "      <th>occupation</th>\n",
       "      <th>race_value</th>\n",
       "      <th>region_value</th>\n",
       "      <th>age_value</th>\n",
       "      <th>occupation_value</th>\n",
       "      <th>mean_value</th>\n",
       "    </tr>\n",
       "    <tr>\n",
       "      <th>cluster</th>\n",
       "      <th></th>\n",
       "      <th></th>\n",
       "      <th></th>\n",
       "      <th></th>\n",
       "      <th></th>\n",
       "      <th></th>\n",
       "      <th></th>\n",
       "      <th></th>\n",
       "      <th></th>\n",
       "    </tr>\n",
       "  </thead>\n",
       "  <tbody>\n",
       "    <tr>\n",
       "      <td>0</td>\n",
       "      <td>218</td>\n",
       "      <td>218</td>\n",
       "      <td>218</td>\n",
       "      <td>218</td>\n",
       "      <td>218</td>\n",
       "      <td>218</td>\n",
       "      <td>218</td>\n",
       "      <td>218</td>\n",
       "      <td>218</td>\n",
       "    </tr>\n",
       "    <tr>\n",
       "      <td>1</td>\n",
       "      <td>165</td>\n",
       "      <td>165</td>\n",
       "      <td>165</td>\n",
       "      <td>165</td>\n",
       "      <td>165</td>\n",
       "      <td>165</td>\n",
       "      <td>165</td>\n",
       "      <td>165</td>\n",
       "      <td>165</td>\n",
       "    </tr>\n",
       "    <tr>\n",
       "      <td>2</td>\n",
       "      <td>121</td>\n",
       "      <td>121</td>\n",
       "      <td>121</td>\n",
       "      <td>121</td>\n",
       "      <td>121</td>\n",
       "      <td>121</td>\n",
       "      <td>121</td>\n",
       "      <td>121</td>\n",
       "      <td>121</td>\n",
       "    </tr>\n",
       "  </tbody>\n",
       "</table>\n",
       "</div>"
      ],
      "text/plain": [
       "         race  region  age  occupation  race_value  region_value  age_value  \\\n",
       "cluster                                                                       \n",
       "0         218     218  218         218         218           218        218   \n",
       "1         165     165  165         165         165           165        165   \n",
       "2         121     121  121         121         121           121        121   \n",
       "\n",
       "         occupation_value  mean_value  \n",
       "cluster                                \n",
       "0                     218         218  \n",
       "1                     165         165  \n",
       "2                     121         121  "
      ]
     },
     "execution_count": 24,
     "metadata": {},
     "output_type": "execute_result"
    }
   ],
   "source": [
    "df_comb.groupby(\"cluster\").count()"
   ]
  },
  {
   "cell_type": "code",
   "execution_count": 25,
   "metadata": {},
   "outputs": [
    {
     "data": {
      "text/plain": [
       "black    91\n",
       "white    68\n",
       "asian     6\n",
       "Name: race, dtype: int64"
      ]
     },
     "execution_count": 25,
     "metadata": {},
     "output_type": "execute_result"
    }
   ],
   "source": [
    "df_comb[df_comb[\"cluster\"]==1].race.value_counts()"
   ]
  },
  {
   "cell_type": "code",
   "execution_count": 26,
   "metadata": {},
   "outputs": [
    {
     "data": {
      "text/plain": [
       "south        64\n",
       "midwest      60\n",
       "west         37\n",
       "northeast     4\n",
       "Name: region, dtype: int64"
      ]
     },
     "execution_count": 26,
     "metadata": {},
     "output_type": "execute_result"
    }
   ],
   "source": [
    "df_comb[df_comb[\"cluster\"]==1].region.value_counts()"
   ]
  },
  {
   "cell_type": "code",
   "execution_count": 27,
   "metadata": {},
   "outputs": [
    {
     "data": {
      "text/plain": [
       "u25      37\n",
       "25_34    32\n",
       "35_44    27\n",
       "45_54    24\n",
       "55_64    23\n",
       "65_74    18\n",
       "o75       4\n",
       "Name: age, dtype: int64"
      ]
     },
     "execution_count": 27,
     "metadata": {},
     "output_type": "execute_result"
    }
   ],
   "source": [
    "df_comb[df_comb[\"cluster\"]==1].age.value_counts()"
   ]
  },
  {
   "cell_type": "code",
   "execution_count": 28,
   "metadata": {},
   "outputs": [
    {
     "data": {
      "text/plain": [
       "construction    43\n",
       "operators       42\n",
       "service         32\n",
       "tech_sales      28\n",
       "managers        17\n",
       "retired          3\n",
       "Name: occupation, dtype: int64"
      ]
     },
     "execution_count": 28,
     "metadata": {},
     "output_type": "execute_result"
    }
   ],
   "source": [
    "df_comb[df_comb[\"cluster\"]==1].occupation.value_counts()"
   ]
  },
  {
   "cell_type": "markdown",
   "metadata": {},
   "source": [
    "# Kmeans 5 classi"
   ]
  },
  {
   "cell_type": "code",
   "execution_count": 29,
   "metadata": {},
   "outputs": [],
   "source": [
    "kmeans = KMeans(n_clusters=5, random_state=0).fit(np.array(df_comb[\"mean_value\"]).reshape(-1, 1))"
   ]
  },
  {
   "cell_type": "code",
   "execution_count": 30,
   "metadata": {},
   "outputs": [
    {
     "data": {
      "text/plain": [
       "array([[0.87205848],\n",
       "       [0.44522996],\n",
       "       [0.5908422 ],\n",
       "       [0.71407614],\n",
       "       [0.25384489]])"
      ]
     },
     "execution_count": 30,
     "metadata": {},
     "output_type": "execute_result"
    }
   ],
   "source": [
    "kmeans.cluster_centers_"
   ]
  },
  {
   "cell_type": "code",
   "execution_count": 31,
   "metadata": {},
   "outputs": [],
   "source": [
    "df_comb[\"cluster\"] = kmeans.labels_"
   ]
  },
  {
   "cell_type": "code",
   "execution_count": 32,
   "metadata": {},
   "outputs": [
    {
     "data": {
      "text/html": [
       "<div>\n",
       "<style scoped>\n",
       "    .dataframe tbody tr th:only-of-type {\n",
       "        vertical-align: middle;\n",
       "    }\n",
       "\n",
       "    .dataframe tbody tr th {\n",
       "        vertical-align: top;\n",
       "    }\n",
       "\n",
       "    .dataframe thead th {\n",
       "        text-align: right;\n",
       "    }\n",
       "</style>\n",
       "<table border=\"1\" class=\"dataframe\">\n",
       "  <thead>\n",
       "    <tr style=\"text-align: right;\">\n",
       "      <th></th>\n",
       "      <th>race</th>\n",
       "      <th>region</th>\n",
       "      <th>age</th>\n",
       "      <th>occupation</th>\n",
       "      <th>race_value</th>\n",
       "      <th>region_value</th>\n",
       "      <th>age_value</th>\n",
       "      <th>occupation_value</th>\n",
       "      <th>mean_value</th>\n",
       "    </tr>\n",
       "    <tr>\n",
       "      <th>cluster</th>\n",
       "      <th></th>\n",
       "      <th></th>\n",
       "      <th></th>\n",
       "      <th></th>\n",
       "      <th></th>\n",
       "      <th></th>\n",
       "      <th></th>\n",
       "      <th></th>\n",
       "      <th></th>\n",
       "    </tr>\n",
       "  </thead>\n",
       "  <tbody>\n",
       "    <tr>\n",
       "      <td>0</td>\n",
       "      <td>107</td>\n",
       "      <td>107</td>\n",
       "      <td>107</td>\n",
       "      <td>107</td>\n",
       "      <td>107</td>\n",
       "      <td>107</td>\n",
       "      <td>107</td>\n",
       "      <td>107</td>\n",
       "      <td>107</td>\n",
       "    </tr>\n",
       "    <tr>\n",
       "      <td>1</td>\n",
       "      <td>104</td>\n",
       "      <td>104</td>\n",
       "      <td>104</td>\n",
       "      <td>104</td>\n",
       "      <td>104</td>\n",
       "      <td>104</td>\n",
       "      <td>104</td>\n",
       "      <td>104</td>\n",
       "      <td>104</td>\n",
       "    </tr>\n",
       "    <tr>\n",
       "      <td>2</td>\n",
       "      <td>122</td>\n",
       "      <td>122</td>\n",
       "      <td>122</td>\n",
       "      <td>122</td>\n",
       "      <td>122</td>\n",
       "      <td>122</td>\n",
       "      <td>122</td>\n",
       "      <td>122</td>\n",
       "      <td>122</td>\n",
       "    </tr>\n",
       "    <tr>\n",
       "      <td>3</td>\n",
       "      <td>130</td>\n",
       "      <td>130</td>\n",
       "      <td>130</td>\n",
       "      <td>130</td>\n",
       "      <td>130</td>\n",
       "      <td>130</td>\n",
       "      <td>130</td>\n",
       "      <td>130</td>\n",
       "      <td>130</td>\n",
       "    </tr>\n",
       "    <tr>\n",
       "      <td>4</td>\n",
       "      <td>41</td>\n",
       "      <td>41</td>\n",
       "      <td>41</td>\n",
       "      <td>41</td>\n",
       "      <td>41</td>\n",
       "      <td>41</td>\n",
       "      <td>41</td>\n",
       "      <td>41</td>\n",
       "      <td>41</td>\n",
       "    </tr>\n",
       "  </tbody>\n",
       "</table>\n",
       "</div>"
      ],
      "text/plain": [
       "         race  region  age  occupation  race_value  region_value  age_value  \\\n",
       "cluster                                                                       \n",
       "0         107     107  107         107         107           107        107   \n",
       "1         104     104  104         104         104           104        104   \n",
       "2         122     122  122         122         122           122        122   \n",
       "3         130     130  130         130         130           130        130   \n",
       "4          41      41   41          41          41            41         41   \n",
       "\n",
       "         occupation_value  mean_value  \n",
       "cluster                                \n",
       "0                     107         107  \n",
       "1                     104         104  \n",
       "2                     122         122  \n",
       "3                     130         130  \n",
       "4                      41          41  "
      ]
     },
     "execution_count": 32,
     "metadata": {},
     "output_type": "execute_result"
    }
   ],
   "source": [
    "df_comb.groupby(\"cluster\").count()"
   ]
  },
  {
   "cell_type": "code",
   "execution_count": 41,
   "metadata": {
    "scrolled": false
   },
   "outputs": [
    {
     "name": "stdout",
     "output_type": "stream",
     "text": [
      "race molto colpiti:\n",
      "black    63\n",
      "white    44\n",
      "Name: race, dtype: int64\n",
      "race mediamente poco colpiti:\n",
      "asian    64\n",
      "white    23\n",
      "black    17\n",
      "Name: race, dtype: int64\n",
      "race medio:\n",
      "asian    48\n",
      "white    41\n",
      "black    33\n",
      "Name: race, dtype: int64\n",
      "race mediamente molto colpiti:\n",
      "white    55\n",
      "black    53\n",
      "asian    22\n",
      "Name: race, dtype: int64\n",
      "race poco colpiti:\n",
      "asian    34\n",
      "white     5\n",
      "black     2\n",
      "Name: race, dtype: int64\n",
      "region molto colpiti:\n",
      "south      46\n",
      "midwest    43\n",
      "west       18\n",
      "Name: region, dtype: int64\n",
      "region mediamente poco colpiti:\n",
      "northeast    48\n",
      "west         24\n",
      "midwest      17\n",
      "south        15\n",
      "Name: region, dtype: int64\n",
      "region medio:\n",
      "west         41\n",
      "northeast    31\n",
      "midwest      26\n",
      "south        24\n",
      "Name: region, dtype: int64\n",
      "region mediamente molto colpiti:\n",
      "south        39\n",
      "midwest      38\n",
      "west         35\n",
      "northeast    18\n",
      "Name: region, dtype: int64\n",
      "region poco colpiti:\n",
      "northeast    29\n",
      "west          8\n",
      "south         2\n",
      "midwest       2\n",
      "Name: region, dtype: int64\n",
      "age molto colpiti:\n",
      "u25      23\n",
      "25_34    23\n",
      "35_44    20\n",
      "45_54    16\n",
      "55_64    15\n",
      "65_74    10\n",
      "Name: age, dtype: int64\n",
      "age mediamente poco colpiti:\n",
      "o75      26\n",
      "65_74    16\n",
      "55_64    15\n",
      "45_54    14\n",
      "35_44    12\n",
      "25_34    11\n",
      "u25      10\n",
      "Name: age, dtype: int64\n",
      "age medio:\n",
      "65_74    24\n",
      "35_44    18\n",
      "45_54    17\n",
      "55_64    17\n",
      "o75      16\n",
      "u25      15\n",
      "25_34    15\n",
      "Name: age, dtype: int64\n",
      "age mediamente molto colpiti:\n",
      "u25      22\n",
      "25_34    21\n",
      "45_54    21\n",
      "35_44    20\n",
      "55_64    20\n",
      "65_74    16\n",
      "o75      10\n",
      "Name: age, dtype: int64\n",
      "age poco colpiti:\n",
      "o75      20\n",
      "65_74     6\n",
      "55_64     5\n",
      "45_54     4\n",
      "35_44     2\n",
      "u25       2\n",
      "25_34     2\n",
      "Name: age, dtype: int64\n",
      "occupation molto colpiti:\n",
      "construction    32\n",
      "operators       32\n",
      "service         23\n",
      "tech_sales      15\n",
      "managers         5\n",
      "Name: occupation, dtype: int64\n",
      "occupation mediamente poco colpiti:\n",
      "retired         33\n",
      "managers        23\n",
      "tech_sales      14\n",
      "service         12\n",
      "construction    11\n",
      "operators       11\n",
      "Name: occupation, dtype: int64\n",
      "occupation medio:\n",
      "tech_sales      29\n",
      "service         25\n",
      "managers        20\n",
      "retired         19\n",
      "operators       15\n",
      "construction    14\n",
      "Name: occupation, dtype: int64\n",
      "occupation mediamente molto colpiti:\n",
      "construction    26\n",
      "operators       25\n",
      "managers        24\n",
      "tech_sales      20\n",
      "service         20\n",
      "retired         15\n",
      "Name: occupation, dtype: int64\n",
      "occupation poco colpiti:\n",
      "retired         17\n",
      "managers        12\n",
      "tech_sales       6\n",
      "service          4\n",
      "construction     1\n",
      "operators        1\n",
      "Name: occupation, dtype: int64\n"
     ]
    }
   ],
   "source": [
    "for type_var in [\"race\",\"region\",\"age\",\"occupation\"]:\n",
    "    for i in range(5):\n",
    "        cl_pov = \"\"\n",
    "        if i == 0:\n",
    "            cl_pov = \"molto colpiti\"\n",
    "        elif i ==1:\n",
    "            cl_pov = \"mediamente poco colpiti\"\n",
    "        elif i == 2:\n",
    "            cl_pov = \"medio\"\n",
    "        elif i == 3:\n",
    "            cl_pov = \"mediamente molto colpiti\"\n",
    "        else:\n",
    "            cl_pov = \"poco colpiti\"\n",
    "        print(type_var + \" \" + cl_pov + \":\")\n",
    "        print(df_comb[df_comb[\"cluster\"]==i][type_var].value_counts())"
   ]
  },
  {
   "cell_type": "code",
   "execution_count": 33,
   "metadata": {},
   "outputs": [
    {
     "data": {
      "text/plain": [
       "black    63\n",
       "white    44\n",
       "Name: race, dtype: int64"
      ]
     },
     "execution_count": 33,
     "metadata": {},
     "output_type": "execute_result"
    }
   ],
   "source": [
    "df_comb[df_comb[\"cluster\"]==0].race.value_counts()"
   ]
  },
  {
   "cell_type": "code",
   "execution_count": 34,
   "metadata": {},
   "outputs": [
    {
     "data": {
      "text/plain": [
       "south      46\n",
       "midwest    43\n",
       "west       18\n",
       "Name: region, dtype: int64"
      ]
     },
     "execution_count": 34,
     "metadata": {},
     "output_type": "execute_result"
    }
   ],
   "source": [
    "df_comb[df_comb[\"cluster\"]==0].region.value_counts()"
   ]
  },
  {
   "cell_type": "code",
   "execution_count": 35,
   "metadata": {},
   "outputs": [
    {
     "data": {
      "text/plain": [
       "u25      23\n",
       "25_34    23\n",
       "35_44    20\n",
       "45_54    16\n",
       "55_64    15\n",
       "65_74    10\n",
       "Name: age, dtype: int64"
      ]
     },
     "execution_count": 35,
     "metadata": {},
     "output_type": "execute_result"
    }
   ],
   "source": [
    "df_comb[df_comb[\"cluster\"]==0].age.value_counts()"
   ]
  },
  {
   "cell_type": "code",
   "execution_count": 36,
   "metadata": {},
   "outputs": [
    {
     "data": {
      "text/plain": [
       "construction    32\n",
       "operators       32\n",
       "service         23\n",
       "tech_sales      15\n",
       "managers         5\n",
       "Name: occupation, dtype: int64"
      ]
     },
     "execution_count": 36,
     "metadata": {},
     "output_type": "execute_result"
    }
   ],
   "source": [
    "df_comb[df_comb[\"cluster\"]==0].occupation.value_counts()"
   ]
  }
 ],
 "metadata": {
  "kernelspec": {
   "display_name": "Python 3",
   "language": "python",
   "name": "python3"
  },
  "language_info": {
   "codemirror_mode": {
    "name": "ipython",
    "version": 3
   },
   "file_extension": ".py",
   "mimetype": "text/x-python",
   "name": "python",
   "nbconvert_exporter": "python",
   "pygments_lexer": "ipython3",
   "version": "3.7.4"
  }
 },
 "nbformat": 4,
 "nbformat_minor": 2
}
